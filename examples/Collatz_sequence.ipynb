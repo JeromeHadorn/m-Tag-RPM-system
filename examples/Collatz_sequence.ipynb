{
 "cells": [
  {
   "cell_type": "code",
   "execution_count": 1,
   "metadata": {},
   "outputs": [],
   "source": [
    "import sys\n",
    "sys.path.insert(0,'../')"
   ]
  },
  {
   "cell_type": "markdown",
   "metadata": {},
   "source": [
    "## Collatz Sequence"
   ]
  },
  {
   "cell_type": "code",
   "execution_count": 3,
   "metadata": {},
   "outputs": [
    {
     "name": "stdout",
     "output_type": "stream",
     "text": [
      "Tag System of size: 6\n",
      "        m : 2\n",
      "        Σ : {'A', 'B', 'C'}\n",
      "        P : {'A': ['B', 'C'], 'B': ['A'], 'C': ['A', 'A', 'A']}\n",
      "        \n",
      "A̲ A A A A\n",
      "  A̲ A A B C\n",
      "    A̲ B C B C\n",
      "      C̲ B C B C\n",
      "        C̲ B C A A A\n",
      "          C̲ A A A A A A\n",
      "            A̲ A A A A A A A\n",
      "              A̲ A A A A A B C\n",
      "                A̲ A A A B C B C\n",
      "                  A̲ A B C B C B C\n",
      "                    B̲ C B C B C B C\n",
      "                      B̲ C B C B C A\n",
      "                        B̲ C B C A A\n",
      "                          B̲ C A A A\n",
      "                            A̲ A A A\n",
      "                              A̲ A B C\n",
      "                                B̲ C B C\n",
      "                                  B̲ C A\n",
      "                                    A̲ A\n",
      "                                      B̲ C\n",
      "                                        A\n",
      "Halted on: 'A'\n"
     ]
    }
   ],
   "source": [
    "from models.m_tag import MTagSystem\n",
    "\n",
    "m = 2\n",
    "symbols = set(['A', 'B', 'C'])\n",
    "productions = {\n",
    "    'A': ['B', 'C'],\n",
    "    'B': ['A'],\n",
    "    'C': ['A', 'A', 'A']\n",
    "}\n",
    "\n",
    "system = MTagSystem(symbols=symbols, productions=productions, m=2, verbose=False, max_iter=100)\n",
    "print(system)\n",
    "\n",
    "system.run('A A A A A', pyramid=True)"
   ]
  }
 ],
 "metadata": {
  "kernelspec": {
   "display_name": "Python 3.8.10 64-bit",
   "language": "python",
   "name": "python3"
  },
  "language_info": {
   "codemirror_mode": {
    "name": "ipython",
    "version": 3
   },
   "file_extension": ".py",
   "mimetype": "text/x-python",
   "name": "python",
   "nbconvert_exporter": "python",
   "pygments_lexer": "ipython3",
   "version": "3.8.9"
  },
  "orig_nbformat": 4,
  "vscode": {
   "interpreter": {
    "hash": "31f2aee4e71d21fbe5cf8b01ff0e069b9275f58929596ceb00d14d90e3e16cd6"
   }
  }
 },
 "nbformat": 4,
 "nbformat_minor": 2
}
