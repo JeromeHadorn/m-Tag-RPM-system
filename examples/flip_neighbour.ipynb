{
 "cells": [
  {
   "cell_type": "code",
   "execution_count": 1,
   "metadata": {},
   "outputs": [],
   "source": [
    "import sys\n",
    "sys.path.insert(0,'../')\n",
    "from models.m_tag_rpm import MTagRPM"
   ]
  },
  {
   "cell_type": "markdown",
   "metadata": {},
   "source": [
    "## Flip Neighbour\n",
    "The initial tape will be of the form:\n",
    "`A A A A B B A A A A A A A A A A C C C C C C C C C C C C C C C C`\n",
    "where there is a pair of B's embedded (once) among many pairs of `A`'s,\n",
    "and there are at least as many `C`'s as `A`'s, and the number of `C`'s is a power of 2.\n",
    "\n",
    "The final tape should be of the form:\n",
    "`a a a a b b x x a a a a a a a a c c c c c c c c c c c c c c c c`\n",
    "where all letters are turned lower-case and the first pair of A's after the B group have become `x`'s."
   ]
  },
  {
   "cell_type": "code",
   "execution_count": 4,
   "metadata": {},
   "outputs": [
    {
     "name": "stdout",
     "output_type": "stream",
     "text": [
      "Tag System of size: 25\n",
      "        m  : 2\n",
      "        Σ  : {'C', '!', 'A', 'c', 'a', 'B', 'b', 'A1', 'A2', 'B*', 'x'}\n",
      "        P  : {'A': ['A1', 'A2'], 'B': ['B*', 'B*'], 'C': ['!', '!'], 'A1': ['a', 'a'], 'A2': ['x', 'x'], 'B*': ['b', 'b'], '!': ['c', 'c'], 'a': ['a', 'a'], 'b': ['b', 'b'], 'c': ['c', 'c'], 'x': ['x', 'x']}\n",
      "        q0 : 0\n",
      "        δ  : {0: {'B*': 1, '_': 0}, 1: {'A2': 0, '_': 1}}\n",
      "        \n",
      "A̲ A A A B B A A A A C C C C\n",
      "  A̲ A B B A A A A C C C C A1 A2\n",
      "    B̲ B A A A A C C C C A1 A2 A1 A2\n",
      "      A̲ A A A C C C C A1 A2 A1 A2 B* B*\n",
      "        A̲ A C C C C A1 A2 A1 A2 B* B* A1 A2\n",
      "          C̲ C C C A1 A2 A1 A2 B* B* A1 A2 A1 A2\n",
      "            C̲ C A1 A2 A1 A2 B* B* A1 A2 A1 A2 ! !\n",
      "              A̲1̲ A2 A1 A2 B* B* A1 A2 A1 A2 ! ! ! !\n",
      "                A̲1̲ A2 B* B* A1 A2 A1 A2 ! ! ! ! a a\n",
      "                  B̲*̲ B* A1 A2 A1 A2 ! ! ! ! a a a a\n",
      "                    A1 A̲2̲ A1 A2 ! ! ! ! a a a a b b\n",
      "                      A̲1̲ A2 ! ! ! ! a a a a b b x x\n",
      "                        !̲ ! ! ! a a a a b b x x a a\n",
      "                          !̲ ! a a a a b b x x a a c c\n",
      "                            a̲ a a a b b x x a a c c c c\n",
      "Reached iteration limit...\n",
      "Halted on: 'a a b b x x a a c c c c a a'\n"
     ]
    }
   ],
   "source": [
    "m = 2\n",
    "symbols = set(['A', 'B', 'C', 'a', 'b', 'c', 'x', 'A1', 'A2', 'B*', '!'])\n",
    "productions = {\n",
    "    'A': ['A1', 'A2'],\n",
    "    'B': ['B*', 'B*'],\n",
    "    'C': ['!', '!'],\n",
    "    'A1': ['a', 'a'],\n",
    "    'A2': ['x', 'x'],\n",
    "    'B*': ['b', 'b'],\n",
    "    '!': ['c', 'c'],\n",
    "    'a': ['a', 'a'],\n",
    "    'b': ['b', 'b'],\n",
    "    'c': ['c', 'c'],\n",
    "    'x': ['x', 'x'],\n",
    "}\n",
    "reading_rules = {\n",
    "    0 : {\n",
    "        'B*': 1,\n",
    "        '_' : 0\n",
    "    },\n",
    "    1 : {\n",
    "        'A2': 0,\n",
    "        '_': 1\n",
    "    }\n",
    "}\n",
    "\n",
    "system = MTagRPM(symbols=symbols, productions=productions, start_state=0, reading_rules=reading_rules, m=2, verbose=False, max_iter=14)\n",
    "print(system)\n",
    "\n",
    "system.run('A A A A B B A A A A C C C C', pyramid=True)\n"
   ]
  }
 ],
 "metadata": {
  "kernelspec": {
   "display_name": "Python 3.8.9 64-bit",
   "language": "python",
   "name": "python3"
  },
  "language_info": {
   "codemirror_mode": {
    "name": "ipython",
    "version": 3
   },
   "file_extension": ".py",
   "mimetype": "text/x-python",
   "name": "python",
   "nbconvert_exporter": "python",
   "pygments_lexer": "ipython3",
   "version": "3.8.9"
  },
  "orig_nbformat": 4,
  "vscode": {
   "interpreter": {
    "hash": "31f2aee4e71d21fbe5cf8b01ff0e069b9275f58929596ceb00d14d90e3e16cd6"
   }
  }
 },
 "nbformat": 4,
 "nbformat_minor": 2
}
